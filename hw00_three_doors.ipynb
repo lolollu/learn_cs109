{
 "cells": [
  {
   "cell_type": "code",
   "execution_count": 19,
   "metadata": {
    "collapsed": true
   },
   "outputs": [],
   "source": [
    "import numpy as np\n",
    "import random\n",
    "\n",
    "def simulate_prizedoor(nsim):\n",
    "    return np.random.randint(3,size = nsim)"
   ]
  },
  {
   "cell_type": "code",
   "execution_count": 55,
   "metadata": {
    "collapsed": false
   },
   "outputs": [],
   "source": [
    "def simulate_guess(nsim):\n",
    "    #return np.ones(nsim)*np.random.randint(3)\n",
    "    return np.random.randint(3, size = nsim)\n",
    "\n",
    "#def simulate_guess(nsim):\n",
    "    #return np.zeros(nsim, dtype = np.int)"
   ]
  },
  {
   "cell_type": "code",
   "execution_count": 37,
   "metadata": {
    "collapsed": false
   },
   "outputs": [],
   "source": [
    "def goat_doors(prize_doors, guess_doors):\n",
    "    full = [0.0,1.0,2.0]\n",
    "    stack = []\n",
    "    for i in range(len(prize_doors)):\n",
    "        pool = full[:]\n",
    "        prize_item  = prize_doors[i]\n",
    "        guess_item  = guess_doors[i]\n",
    "        pool.remove(guess_item)\n",
    "        if prize_item in pool:\n",
    "            pool.remove(prize_item)\n",
    "        stack.append(random.choice(pool))\n",
    "    \n",
    "    return np.array(stack)\n",
    "\n",
    "'''\n",
    "result = np.random.randint(0, 3, prizedoors.size)\n",
    "    while True:\n",
    "        bad = (result == prizedoors) | (result == guesses)\n",
    "        if not bad.any():\n",
    "            return result\n",
    "        result[bad] = np.random.randint(0, 3, bad.sum())\n",
    "    学习笔记：\n",
    "    1. 两个大小相等的np.array 中间做== 比较，输出同等大小的ture或false的array\n",
    "    2. 布尔型array中只要出现一个true，any()就为真，只要出现一个false，all()就为假\n",
    "    3. array[布尔型array] = 代表给为true的位置进行赋值\n",
    "    \n",
    "'''"
   ]
  },
  {
   "cell_type": "code",
   "execution_count": 42,
   "metadata": {
    "collapsed": false
   },
   "outputs": [],
   "source": [
    "def switch_guess(guess_doors, goat_doors):\n",
    "    full = [0.0,1.0,2.0]\n",
    "    stack = []\n",
    "    for i in range(len(guess_doors)):\n",
    "        pool = full[:]\n",
    "        guess_item = guess_doors[i]\n",
    "        goat_item  = goat_doors[i]\n",
    "        pool.remove(guess_item)\n",
    "        pool.remove(goat_item)\n",
    "        stack.append(pool[0])\n",
    "    return np.array(stack)\n",
    "\n",
    "'''\n",
    "def switch_guess(guesses, goatdoors):\n",
    "    result = np.zeros(guesses.size)\n",
    "    switch = {(0, 1): 2, (0, 2): 1, (1, 0): 2, (1, 2): 1, (2, 0): 1, (2, 1): 0}\n",
    "    for i in [0, 1, 2]:\n",
    "        for j in [0, 1, 2]:\n",
    "            mask = (guesses == i) & (goatdoors == j)\n",
    "            if not mask.any():\n",
    "                continue\n",
    "            result = np.where(mask, np.ones_like(result) * switch[(i, j)], result)\n",
    "    return result\n",
    "    学习笔记：\n",
    "    1. ones_like(x) 是创建一个像array x的新array，里面所有的值为1\n",
    "    2. where(condition[,x,y])是三元表达式x if condition else y的矢量化版本\n",
    "'''\n"
   ]
  },
  {
   "cell_type": "code",
   "execution_count": 85,
   "metadata": {
    "collapsed": false
   },
   "outputs": [
    {
     "data": {
      "text/plain": [
       "'\\ndef win_percentage(guesses, prizedoors):\\n    return 100 * (guesses == prizedoors).mean()\\n\\xe8\\xae\\xba\\xe5\\xad\\xa6\\xe5\\x8f\\xb7numpy\\xe7\\x9a\\x84\\xe9\\x87\\x8d\\xe8\\xa6\\x81\\xe6\\x80\\xa7\\n'"
      ]
     },
     "execution_count": 85,
     "metadata": {},
     "output_type": "execute_result"
    }
   ],
   "source": [
    "def win_percentage(guess, prize):\n",
    "    shot = guess - prize\n",
    "    count = 0\n",
    "    for i in shot:\n",
    "        if i == 0:\n",
    "            count += 1\n",
    "    return count / float(len(shot)) * 100\n",
    "\n",
    "'''\n",
    "def win_percentage(guesses, prizedoors):\n",
    "    return 100 * (guesses == prizedoors).mean()\n",
    "论学号numpy的重要性\n",
    "'''"
   ]
  },
  {
   "cell_type": "code",
   "execution_count": 87,
   "metadata": {
    "collapsed": false
   },
   "outputs": [
    {
     "name": "stdout",
     "output_type": "stream",
     "text": [
      "66.365\n"
     ]
    }
   ],
   "source": [
    "sim = 20000\n",
    "prize_door = simulate_prizedoor(sim)\n",
    "guess_door = simulate_guess(sim)\n",
    "\n",
    "goat_door = goat_doors(prize_door, guess_door)\n",
    "\n",
    "guess_door = switch_guess(guess_door, goat_door)\n",
    "\n",
    "print win_percentage(guess_door, prize_door)\n"
   ]
  },
  {
   "cell_type": "code",
   "execution_count": 86,
   "metadata": {
    "collapsed": false
   },
   "outputs": [
    {
     "name": "stdout",
     "output_type": "stream",
     "text": [
      "0.4985\n"
     ]
    }
   ],
   "source": [
    "#test\n",
    "a = np.random.randint(0,2,10000)\n",
    "b = np.random.randint(0,2,10000)\n",
    "#bad = (a==b)\n",
    "#c[bad] = np.ones(bad.sum())*-1\n",
    "#print c\n",
    "\n",
    "print (a==b).mean()\n",
    "\n",
    "\n"
   ]
  },
  {
   "cell_type": "code",
   "execution_count": null,
   "metadata": {
    "collapsed": true
   },
   "outputs": [],
   "source": []
  }
 ],
 "metadata": {
  "kernelspec": {
   "display_name": "Python 2",
   "language": "python",
   "name": "python2"
  },
  "language_info": {
   "codemirror_mode": {
    "name": "ipython",
    "version": 2
   },
   "file_extension": ".py",
   "mimetype": "text/x-python",
   "name": "python",
   "nbconvert_exporter": "python",
   "pygments_lexer": "ipython2",
   "version": "2.7.13"
  }
 },
 "nbformat": 4,
 "nbformat_minor": 2
}
