{
 "cells": [
  {
   "cell_type": "code",
   "execution_count": 7,
   "metadata": {},
   "outputs": [
    {
     "name": "stdout",
     "output_type": "stream",
     "text": [
      "1\n",
      "[2, 1]\n",
      "[2, 1]\n"
     ]
    }
   ],
   "source": [
    "def add1(x):\n",
    "    x += 1\n",
    "\n",
    "    \n",
    "def add2(x):\n",
    "    x.append(1)\n",
    "    \n",
    "def add3(x):\n",
    "    x = [1,2,3]\n",
    "\n",
    "a = 1\n",
    "add1(a)\n",
    "print(a)\n",
    "\n",
    "b = [2]\n",
    "add2(b)\n",
    "print(b)\n",
    "add3(b)\n",
    "print(b)\n"
   ]
  },
  {
   "cell_type": "code",
   "execution_count": null,
   "metadata": {
    "collapsed": true
   },
   "outputs": [],
   "source": []
  }
 ],
 "metadata": {
  "kernelspec": {
   "display_name": "Python 3",
   "language": "python",
   "name": "python3"
  },
  "language_info": {
   "codemirror_mode": {
    "name": "ipython",
    "version": 3
   },
   "file_extension": ".py",
   "mimetype": "text/x-python",
   "name": "python",
   "nbconvert_exporter": "python",
   "pygments_lexer": "ipython3",
   "version": "3.6.1"
  }
 },
 "nbformat": 4,
 "nbformat_minor": 2
}
