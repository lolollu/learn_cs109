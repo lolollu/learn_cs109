{
 "cells": [
  {
   "cell_type": "code",
   "execution_count": 4,
   "metadata": {},
   "outputs": [
    {
     "name": "stdout",
     "output_type": "stream",
     "text": [
      "the :  8177\n",
      "and :  4984\n",
      "of :  4122\n",
      "to :  3536\n",
      "a :  2976\n",
      "in :  2612\n",
      "his :  1998\n",
      "it :  1879\n",
      "i :  1872\n",
      "that :  1861\n"
     ]
    }
   ],
   "source": [
    "# Python 3\n",
    "\n",
    "# Be sure you have followed the instructions to download the 98-0.txt,\n",
    "# the text of A Tale of Two Cities, by Charles Dickens\n",
    "\n",
    "import collections\n",
    "\n",
    "file=open('98-0.txt', encoding = 'utf-8')\n",
    "\n",
    "# if you want to use stopwords, here's an example of how to do this\n",
    "# stopwords = set(line.strip() for line in open('stopwords'))\n",
    "\n",
    "# create your data structure here.  F\n",
    "wordcount={}\n",
    "\n",
    "# Instantiate a dictionary, and for every word in the file, add to \n",
    "# the dictionary if it doesn't exist. If it does, increase the count.\n",
    "\n",
    "# Hint: To eliminate duplicates, remember to split by punctuation, \n",
    "# and use case demiliters. The functions lower() and split() will be useful!\n",
    "\n",
    "for word in file.read().lower().split():\n",
    "    word = word.replace(\".\",\"\")\n",
    "    word = word.replace(\",\",\"\")\n",
    "    word = word.replace(\"\\\"\",\"\")\n",
    "    word = word.replace(\"“\",\"\")\n",
    "    \n",
    "    if word not in wordcount:\n",
    "        wordcount[word] = 1\n",
    "    else:\n",
    "        wordcount[word] += 1\n",
    "\n",
    "# after building your wordcount, you can then sort it and return the first\n",
    "# n words.  If you want, collections.Counter may be useful.\n",
    "\n",
    "d = collections.Counter(wordcount)\n",
    "\n",
    "#print(d.most_common(10))\n",
    "for word, count in d.most_common(10):\n",
    "\tprint(word, \": \", count)\n"
   ]
  }
 ],
 "metadata": {
  "kernelspec": {
   "display_name": "Python 3",
   "language": "python",
   "name": "python3"
  },
  "language_info": {
   "codemirror_mode": {
    "name": "ipython",
    "version": 3
   },
   "file_extension": ".py",
   "mimetype": "text/x-python",
   "name": "python",
   "nbconvert_exporter": "python",
   "pygments_lexer": "ipython3",
   "version": "3.6.1"
  }
 },
 "nbformat": 4,
 "nbformat_minor": 2
}
