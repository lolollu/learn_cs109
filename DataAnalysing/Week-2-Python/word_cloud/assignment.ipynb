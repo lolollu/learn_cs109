{
 "cells": [
  {
   "cell_type": "code",
   "execution_count": 1,
   "metadata": {},
   "outputs": [
    {
     "name": "stdout",
     "output_type": "stream",
     "text": [
      "the : 6478\n",
      "and : 4083\n",
      "of : 3634\n",
      "to : 3056\n",
      "a : 2508\n",
      "in : 2168\n",
      "his : 1634\n",
      "was : 1480\n",
      "that : 1457\n",
      "I : 1333\n",
      "time_a :  0.024641752243041992\n",
      "-------------------\n",
      "the : 6478\n",
      "and : 4083\n",
      "of : 3634\n",
      "to : 3056\n",
      "a : 2508\n",
      "in : 2168\n",
      "his : 1634\n",
      "was : 1480\n",
      "that : 1457\n",
      "I : 1333\n",
      "time_b :  0.00806117057800293\n"
     ]
    }
   ],
   "source": [
    "import collections\n",
    "import time\n",
    "\n",
    "with open('./98-0.txt',encoding ='utf-8') as f:\n",
    "    word_content = f.read()\n",
    "    \n",
    "count_dict = {}\n",
    "\n",
    "def clean_word(word):\n",
    "    codes = [',','.','!','?','/',';','-',\"'\",\"“\"]\n",
    "    for key in codes:\n",
    "        word.replace('%s'%key,'')  \n",
    "    return word\n",
    "\n",
    "for word in word_content.split(' '):\n",
    "    word = clean_word(word)\n",
    "    if word not in count_dict:\n",
    "        count_dict[word] = 1\n",
    "    else:\n",
    "        count_dict[word] += 1\n",
    "        \n",
    "time_a = time.time()       \n",
    "rank = sorted(list(count_dict.items()), key=lambda d:d[1], reverse = True)\n",
    "time_b = time.time() - time_a\n",
    "for i in rank[:10]:\n",
    "    print('%s : %d'%(i[0],i[1]))\n",
    "print('time_a : ',time_b)\n",
    "\n",
    "\n",
    "print('-------------------')\n",
    "time_c = time.time()\n",
    "count = collections.Counter(count_dict)\n",
    "time_d = time.time() - time_c\n",
    "for key, number in count.most_common(10):\n",
    "    print(key, \":\", number)\n",
    "print('time_b : ',time_d)\n"
   ]
  },
  {
   "cell_type": "code",
   "execution_count": null,
   "metadata": {
    "collapsed": true
   },
   "outputs": [],
   "source": []
  }
 ],
 "metadata": {
  "kernelspec": {
   "display_name": "Python 3",
   "language": "python",
   "name": "python3"
  },
  "language_info": {
   "codemirror_mode": {
    "name": "ipython",
    "version": 3
   },
   "file_extension": ".py",
   "mimetype": "text/x-python",
   "name": "python",
   "nbconvert_exporter": "python",
   "pygments_lexer": "ipython3",
   "version": "3.6.1"
  }
 },
 "nbformat": 4,
 "nbformat_minor": 2
}
