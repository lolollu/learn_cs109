{
 "cells": [
  {
   "cell_type": "code",
   "execution_count": 2,
   "metadata": {
    "collapsed": true
   },
   "outputs": [],
   "source": [
    "import numpy as np\n"
   ]
  },
  {
   "cell_type": "code",
   "execution_count": 6,
   "metadata": {
    "collapsed": false
   },
   "outputs": [
    {
     "name": "stdout",
     "output_type": "stream",
     "text": [
      "2\n",
      "6\n",
      "int32\n",
      "4\n",
      "\u0001\u0000\u0000\u0000\u0002\u0000\u0000\u0000\u0003\u0000\u0000\u0000\u0002\u0000\u0000\u0000\u0003\u0000\u0000\u0000\u0004\u0000\u0000\u0000\n"
     ]
    }
   ],
   "source": [
    "a = np.array([[1,2,3],\n",
    "             [2,3,4]])\n",
    "print a.ndim\n",
    "print a.size\n",
    "print a.dtype\n",
    "print a.itemsize\n",
    "print a.data"
   ]
  },
  {
   "cell_type": "code",
   "execution_count": 3,
   "metadata": {
    "collapsed": false
   },
   "outputs": [
    {
     "name": "stdout",
     "output_type": "stream",
     "text": [
      "(2L, 3L)\n"
     ]
    }
   ],
   "source": [
    "print a.shape"
   ]
  },
  {
   "cell_type": "code",
   "execution_count": 13,
   "metadata": {
    "collapsed": false
   },
   "outputs": [
    {
     "name": "stdout",
     "output_type": "stream",
     "text": [
      "3\n",
      "(3L, 2L, 4L)\n",
      "24\n",
      "int32\n",
      "4\n",
      "\u0001\u0000\u0000\u0000\u0017\u0000\u0000\u0000\u0004\u0000\u0000\u0000\u0005\u0000\u0000\u0000\u0002\u0000\u0000\u0000\u0003\u0000\u0000\u0000\u0005\u0000\u0000\u0000\u0003\u0000\u0000\u0000\u0003\u0000\u0000\u0000Y\u0001\u0000\u0000\u0006\u0000\u0000\u0000\u0004\u0000\u0000\u0000\u0005\u0000\u0000\u0000\u0017\u0000\u0000\u0000\u0005\u0000\u0000\u0000\u0006\u0000\u0000\u0000\u0015\u0000\u0000\u0000\u0019\u0000\u0000\u0000\"\u0000\u0000\u0000�\u0000\u0000\u0000J\u0005\u0000\u0000:\u0001\u0000\u0000 \u0000\u0000\u0000\u0003\u0000\u0000\u0000\n",
      "[[  3 345   6   4]\n",
      " [  5  23   5   6]]\n"
     ]
    }
   ],
   "source": [
    "b = np.array([[[1,23,4,5],[2,3,5,3]],[[3,345,6,4],[5,23,5,6]],[[21,25,34,223],[1354,314,32,3]]])\n",
    "print b.ndim\n",
    "print b.shape\n",
    "print b.size\n",
    "print b.dtype\n",
    "print b.itemsize\n",
    "print b.data\n",
    "print b[1]\n",
    "\n"
   ]
  },
  {
   "cell_type": "code",
   "execution_count": 12,
   "metadata": {
    "collapsed": false
   },
   "outputs": [
    {
     "name": "stdout",
     "output_type": "stream",
     "text": [
      "complex128\n",
      "[ 1.+0.j  2.+0.j  3.+0.j]\n"
     ]
    }
   ],
   "source": [
    "c = np.array([1,2,3],dtype = complex)\n",
    "print c.dtype\n",
    "print c"
   ]
  },
  {
   "cell_type": "code",
   "execution_count": 24,
   "metadata": {
    "collapsed": false
   },
   "outputs": [
    {
     "data": {
      "text/plain": [
       "array([[ 1.,  0.,  2.],\n",
       "       [ 0.,  3.,  0.]])"
      ]
     },
     "execution_count": 24,
     "metadata": {},
     "output_type": "execute_result"
    }
   ],
   "source": [
    "np.zeros((3,4))\n",
    "\n",
    "np.ones((3,4,5), dtype= int)\n",
    "\n",
    "np.empty((2,3))"
   ]
  },
  {
   "cell_type": "code",
   "execution_count": 28,
   "metadata": {
    "collapsed": false
   },
   "outputs": [
    {
     "data": {
      "text/plain": [
       "array([ 1. ,  1.1,  1.2,  1.3,  1.4,  1.5,  1.6,  1.7,  1.8,  1.9])"
      ]
     },
     "execution_count": 28,
     "metadata": {},
     "output_type": "execute_result"
    }
   ],
   "source": [
    "np.arange(10,20,2)\n",
    "np.arange(1,2,0.1)"
   ]
  },
  {
   "cell_type": "code",
   "execution_count": 36,
   "metadata": {
    "collapsed": false
   },
   "outputs": [
    {
     "name": "stdout",
     "output_type": "stream",
     "text": [
      "[  0.00000000e+00   6.34239197e-02   1.26592454e-01   1.89251244e-01\n",
      "   2.51147987e-01   3.12033446e-01   3.71662456e-01   4.29794912e-01\n",
      "   4.86196736e-01   5.40640817e-01   5.92907929e-01   6.42787610e-01\n",
      "   6.90079011e-01   7.34591709e-01   7.76146464e-01   8.14575952e-01\n",
      "   8.49725430e-01   8.81453363e-01   9.09631995e-01   9.34147860e-01\n",
      "   9.54902241e-01   9.71811568e-01   9.84807753e-01   9.93838464e-01\n",
      "   9.98867339e-01   9.99874128e-01   9.96854776e-01   9.89821442e-01\n",
      "   9.78802446e-01   9.63842159e-01   9.45000819e-01   9.22354294e-01\n",
      "   8.95993774e-01   8.66025404e-01   8.32569855e-01   7.95761841e-01\n",
      "   7.55749574e-01   7.12694171e-01   6.66769001e-01   6.18158986e-01\n",
      "   5.67059864e-01   5.13677392e-01   4.58226522e-01   4.00930535e-01\n",
      "   3.42020143e-01   2.81732557e-01   2.20310533e-01   1.58001396e-01\n",
      "   9.50560433e-02   3.17279335e-02  -3.17279335e-02  -9.50560433e-02\n",
      "  -1.58001396e-01  -2.20310533e-01  -2.81732557e-01  -3.42020143e-01\n",
      "  -4.00930535e-01  -4.58226522e-01  -5.13677392e-01  -5.67059864e-01\n",
      "  -6.18158986e-01  -6.66769001e-01  -7.12694171e-01  -7.55749574e-01\n",
      "  -7.95761841e-01  -8.32569855e-01  -8.66025404e-01  -8.95993774e-01\n",
      "  -9.22354294e-01  -9.45000819e-01  -9.63842159e-01  -9.78802446e-01\n",
      "  -9.89821442e-01  -9.96854776e-01  -9.99874128e-01  -9.98867339e-01\n",
      "  -9.93838464e-01  -9.84807753e-01  -9.71811568e-01  -9.54902241e-01\n",
      "  -9.34147860e-01  -9.09631995e-01  -8.81453363e-01  -8.49725430e-01\n",
      "  -8.14575952e-01  -7.76146464e-01  -7.34591709e-01  -6.90079011e-01\n",
      "  -6.42787610e-01  -5.92907929e-01  -5.40640817e-01  -4.86196736e-01\n",
      "  -4.29794912e-01  -3.71662456e-01  -3.12033446e-01  -2.51147987e-01\n",
      "  -1.89251244e-01  -1.26592454e-01  -6.34239197e-02  -2.44929360e-16]\n"
     ]
    }
   ],
   "source": [
    "tsin = np.linspace(0,2*np.pi,100)\n",
    "#print tsin\n",
    "f = np.sin(tsin)\n",
    "print f"
   ]
  },
  {
   "cell_type": "code",
   "execution_count": 40,
   "metadata": {
    "collapsed": false
   },
   "outputs": [
    {
     "name": "stdout",
     "output_type": "stream",
     "text": [
      "[[ 0.  0.  0.  0.  0.]\n",
      " [ 0.  0.  0.  0.  0.]\n",
      " [ 0.  0.  0.  0.  0.]\n",
      " [ 0.  0.  0.  0.  0.]]\n",
      "float64\n"
     ]
    }
   ],
   "source": [
    "f = np.ones((4,5), dtype = float)\n",
    "ff = np.zeros_like(f)\n",
    "print ff\n",
    "print ff.dtype"
   ]
  },
  {
   "cell_type": "code",
   "execution_count": 45,
   "metadata": {
    "collapsed": false,
    "scrolled": false
   },
   "outputs": [
    {
     "name": "stdout",
     "output_type": "stream",
     "text": [
      "[[[ 0.  4.]\n",
      "  [ 3.  7.]]\n",
      "\n",
      " [[ 2.  6.]\n",
      "  [ 5.  9.]]]\n"
     ]
    }
   ],
   "source": [
    "def f(i,j,k):\n",
    "    return i*2+j*3+k*4\n",
    "\n",
    "ffunc = np.fromfunction(f,(2,2,2))\n",
    "print ffunc\n"
   ]
  },
  {
   "cell_type": "code",
   "execution_count": 52,
   "metadata": {
    "collapsed": false
   },
   "outputs": [
    {
     "name": "stdout",
     "output_type": "stream",
     "text": [
      "[0 1 2 3 4 5 6 7]\n",
      "[[ 0  1  2]\n",
      " [ 3  4  5]\n",
      " [ 6  7  8]\n",
      " [ 9 10 11]]\n",
      "[[[ 0  1  2  3]\n",
      "  [ 4  5  6  7]\n",
      "  [ 8  9 10 11]]\n",
      "\n",
      " [[12 13 14 15]\n",
      "  [16 17 18 19]\n",
      "  [20 21 22 23]]]\n"
     ]
    }
   ],
   "source": [
    "a = np.arange(8)\n",
    "print a\n",
    "\n",
    "b = np.arange(12).reshape(4,3)\n",
    "print b\n",
    "c = np.arange(24).reshape(2,3,4)\n",
    "print c"
   ]
  },
  {
   "cell_type": "code",
   "execution_count": 1,
   "metadata": {
    "collapsed": false
   },
   "outputs": [
    {
     "name": "stdout",
     "output_type": "stream",
     "text": [
      "C:\\Users\\jiahao\\.jupyter\\nbconfig/notebook.json\n"
     ]
    }
   ],
   "source": [
    "from jupyter_core.paths import jupyter_config_dir\n",
    "import os.path\n",
    "fname = os.path.join(jupyter_config_dir(), 'nbconfig/notebook.json')\n",
    "print fname"
   ]
  },
  {
   "cell_type": "code",
   "execution_count": 3,
   "metadata": {
    "collapsed": false
   },
   "outputs": [
    {
     "name": "stdout",
     "output_type": "stream",
     "text": [
      "[20 29 38 47]\n"
     ]
    }
   ],
   "source": [
    "a = np.array([20,30,40,50])\n",
    "b = np.arange(4)\n",
    "print a-b"
   ]
  },
  {
   "cell_type": "code",
   "execution_count": 16,
   "metadata": {
    "collapsed": false
   },
   "outputs": [
    {
     "name": "stdout",
     "output_type": "stream",
     "text": [
      "[ 0.          8.41470985 -7.56802495  4.12118485]\n",
      "[ True False  True  True]\n"
     ]
    }
   ],
   "source": [
    "c = np.array([0,1,4,9])\n",
    "m = 10*np.sin(c)\n",
    "print m\n",
    "print m<5"
   ]
  },
  {
   "cell_type": "code",
   "execution_count": 20,
   "metadata": {
    "collapsed": false
   },
   "outputs": [
    {
     "name": "stdout",
     "output_type": "stream",
     "text": [
      "[[2 0]\n",
      " [0 4]]\n",
      "[[5 4]\n",
      " [3 4]]\n"
     ]
    }
   ],
   "source": [
    "A = np.array( [[1,1],\n",
    "             [0,1]] )\n",
    "B = np.array( [[2,0],\n",
    "             [3,4]] )\n",
    "print A*B                         # elementwise product\n",
    "print np.dot(A,B)                    # matrix product"
   ]
  },
  {
   "cell_type": "code",
   "execution_count": 32,
   "metadata": {
    "collapsed": false
   },
   "outputs": [
    {
     "name": "stdout",
     "output_type": "stream",
     "text": [
      "[[1 1 1]\n",
      " [1 1 1]]\n",
      "[[ 1.08778582  1.30245421  1.13472712]\n",
      " [ 1.8567662   1.85241096  1.09665018]]\n",
      "[[ 2.08778582  2.30245421  2.13472712]\n",
      " [ 2.8567662   2.85241096  2.09665018]]\n"
     ]
    }
   ],
   "source": [
    "a = np.ones((2,3),dtype = int)\n",
    "b = np.random.random((2,3))\n",
    "b += a\n",
    "print a\n",
    "print b\n",
    "c = a+  b\n",
    "print c"
   ]
  },
  {
   "cell_type": "code",
   "execution_count": 35,
   "metadata": {
    "collapsed": false
   },
   "outputs": [
    {
     "name": "stdout",
     "output_type": "stream",
     "text": [
      "0.544916645897\n",
      "0.979243636418\n",
      "0.0571699465744\n",
      "0.10700755894\n"
     ]
    }
   ],
   "source": [
    "a = np.random.random((4,5))\n",
    "print a.mean()\n",
    "print a.max()\n",
    "print a.min()\n",
    "print a.var()"
   ]
  },
  {
   "cell_type": "code",
   "execution_count": 50,
   "metadata": {
    "collapsed": false
   },
   "outputs": [
    {
     "name": "stdout",
     "output_type": "stream",
     "text": [
      "[[[ 0  1  2  3]\n",
      "  [ 4  5  6  7]]\n",
      "\n",
      " [[ 8  9 10 11]\n",
      "  [12 13 14 15]]\n",
      "\n",
      " [[16 17 18 19]\n",
      "  [20 21 22 23]]]\n"
     ]
    },
    {
     "data": {
      "text/plain": [
       "array([[24, 27, 30, 33],\n",
       "       [36, 39, 42, 45]])"
      ]
     },
     "execution_count": 50,
     "metadata": {},
     "output_type": "execute_result"
    }
   ],
   "source": [
    "b = np.arange(24).reshape(3,2,4)\n",
    "print b\n",
    "b.sum(axis  = 0)"
   ]
  },
  {
   "cell_type": "code",
   "execution_count": 67,
   "metadata": {
    "collapsed": false
   },
   "outputs": [
    {
     "name": "stdout",
     "output_type": "stream",
     "text": [
      "[  0   1   8  27  64 125 216 343 512 729]\n",
      "2\n",
      "[1 2 3]\n",
      "[9 8 7 6 5 4 3 2 1 0]\n",
      "[    0     1 -1000     3 -1000     5 -1000     7 -1000     9]\n",
      "[[    0     0]\n",
      " [    1     1]\n",
      " [-1000 -1000]\n",
      " [    3     3]\n",
      " [-1000 -1000]\n",
      " [    5     5]\n",
      " [-1000 -1000]\n",
      " [    7     7]\n",
      " [-1000 -1000]\n",
      " [    9     9]]\n"
     ]
    }
   ],
   "source": [
    "a = np.arange(10)\n",
    "print a**3\n",
    "print a[2]\n",
    "print a[1:4]\n",
    "print a[::-1]\n",
    "a[2::2]=-1000\n",
    "print a\n",
    "print a.repeat(2).reshape(a.size,2)\n"
   ]
  },
  {
   "cell_type": "code",
   "execution_count": 73,
   "metadata": {
    "collapsed": false
   },
   "outputs": [
    {
     "name": "stdout",
     "output_type": "stream",
     "text": [
      "float64\n"
     ]
    }
   ],
   "source": [
    "a = np.floor(10*np.random.random((2,3)))\n",
    "print a.dtype"
   ]
  },
  {
   "cell_type": "code",
   "execution_count": 79,
   "metadata": {
    "collapsed": false
   },
   "outputs": [
    {
     "name": "stdout",
     "output_type": "stream",
     "text": [
      "[[[ 5.  1.  5.  0.  0.]\n",
      "  [ 5.  3.  4.  1.  3.]]\n",
      "\n",
      " [[ 6.  9.  6.  4.  3.]\n",
      "  [ 9.  9.  4.  7.  0.]]\n",
      "\n",
      " [[ 4.  7.  4.  6.  2.]\n",
      "  [ 2.  6.  7.  0.  6.]]\n",
      "\n",
      " [[ 2.  1.  8.  8.  2.]\n",
      "  [ 7.  3.  0.  2.  8.]]]\n",
      "[[ 5.  1.  5.  0.]\n",
      " [ 0.  5.  3.  4.]\n",
      " [ 1.  3.  6.  9.]\n",
      " [ 6.  4.  3.  9.]\n",
      " [ 9.  4.  7.  0.]\n",
      " [ 4.  7.  4.  6.]\n",
      " [ 2.  2.  6.  7.]\n",
      " [ 0.  6.  2.  1.]\n",
      " [ 8.  8.  2.  7.]\n",
      " [ 3.  0.  2.  8.]]\n"
     ]
    }
   ],
   "source": [
    "s = np.floor(10*np.random.random((4,2,5)))\n",
    "print s\n",
    "m = s.reshape(-1,4)\n",
    "print m"
   ]
  },
  {
   "cell_type": "code",
   "execution_count": 88,
   "metadata": {
    "collapsed": false
   },
   "outputs": [
    {
     "name": "stdout",
     "output_type": "stream",
     "text": [
      "[[ 4.  5.  1.  1.]\n",
      " [ 5.  3.  2.  1.]\n",
      " [ 5.  3.  9.  5.]]\n",
      "[[ 8.  5.  7.  9.]\n",
      " [ 1.  8.  5.  6.]\n",
      " [ 4.  5.  4.  4.]]\n",
      "[[ 7.  7.]\n",
      " [ 6.  0.]\n",
      " [ 9.  3.]]\n",
      "[[ 4.  5.  1.  1.]\n",
      " [ 5.  3.  2.  1.]\n",
      " [ 5.  3.  9.  5.]\n",
      " [ 8.  5.  7.  9.]\n",
      " [ 1.  8.  5.  6.]\n",
      " [ 4.  5.  4.  4.]]\n",
      "[[ 4.  5.  1.  1.  7.  7.]\n",
      " [ 5.  3.  2.  1.  6.  0.]\n",
      " [ 5.  3.  9.  5.  9.  3.]]\n"
     ]
    }
   ],
   "source": [
    "a = np.floor(10*np.random.random((3,4)))\n",
    "print a\n",
    "b = np.floor(10*np.random.random((3,4)))\n",
    "print b\n",
    "c  = np.floor(10*np.random.random((3,2)))\n",
    "print c\n",
    "\n",
    "print np.vstack((a,b))\n",
    "print np.hstack((a,c))\n"
   ]
  },
  {
   "cell_type": "code",
   "execution_count": 101,
   "metadata": {
    "collapsed": false
   },
   "outputs": [
    {
     "name": "stdout",
     "output_type": "stream",
     "text": [
      "[[ 5.  7.  6.  6.  0.  4.  9.  8.  8.  3.  3.  5.]\n",
      " [ 0.  7.  1.  3.  7.  5.  4.  7.  8.  5.  8.  5.]]\n",
      "[array([[ 5.,  7.,  6.,  6.],\n",
      "       [ 0.,  7.,  1.,  3.]]), array([[ 0.,  4.,  9.,  8.],\n",
      "       [ 7.,  5.,  4.,  7.]]), array([[ 8.,  3.,  3.,  5.],\n",
      "       [ 8.,  5.,  8.,  5.]])]\n",
      "[array([[ 5.,  7.,  6.,  6.],\n",
      "       [ 0.,  7.,  1.,  3.]]), array([[ 0.,  4.],\n",
      "       [ 7.,  5.]]), array([[ 9.,  8.,  8.,  3.,  3.,  5.],\n",
      "       [ 4.,  7.,  8.,  5.,  8.,  5.]])]\n",
      "[[ 5.  7.  6.  6.  0.  4.  9.  8.]\n",
      " [ 8.  3.  3.  5.  0.  7.  1.  3.]\n",
      " [ 7.  5.  4.  7.  8.  5.  8.  5.]]\n",
      "[[ 5.  7.  6.  6.  0.  4.  9.  8.  8.  3.  3.  5.]\n",
      " [ 0.  7.  1.  3.  7.  5.  4.  7.  8.  5.  8.  5.]]\n",
      "[[ 5.  7.  6.]\n",
      " [ 6.  0.  4.]\n",
      " [ 9.  8.  8.]\n",
      " [ 3.  3.  5.]\n",
      " [ 0.  7.  1.]\n",
      " [ 3.  7.  5.]\n",
      " [ 4.  7.  8.]\n",
      " [ 5.  8.  5.]]\n"
     ]
    }
   ],
   "source": [
    "a = np.floor(10*np.random.random((2,12)))\n",
    "print a\n",
    "\n",
    "print np.hsplit(a,3)\n",
    "print np.hsplit(a,(4,6))\n",
    "print a.reshape((3,8))\n",
    "print a\n",
    "a.shape = 8,3\n",
    "print a\n"
   ]
  },
  {
   "cell_type": "code",
   "execution_count": 105,
   "metadata": {
    "collapsed": false
   },
   "outputs": [
    {
     "name": "stdout",
     "output_type": "stream",
     "text": [
      "[[ 7.  9.  0.  5.]\n",
      " [ 3.  2.  8.  3.]\n",
      " [ 3.  5.  1.  9.]]\n",
      "[[ 7.  9.  0.  5.]\n",
      " [ 3.  2.  8.  3.]\n",
      " [ 3.  5.  1.  9.]]\n",
      "[[ 12.  14.   5.  10.]\n",
      " [  8.   7.  13.   8.]\n",
      " [  8.  10.   6.  14.]]\n",
      "[[ 12.  14.   5.  10.]\n",
      " [  8.   7.  13.   8.]\n",
      " [  8.  10.   6.  14.]]\n",
      "[[ 12.  14.   5.]\n",
      " [ 10.   8.   7.]\n",
      " [ 13.   8.   8.]\n",
      " [ 10.   6.  14.]]\n",
      "[[ 12.  14.   5.  10.]\n",
      " [  8.   7.  13.   8.]\n",
      " [  8.  10.   6.  14.]]\n"
     ]
    }
   ],
   "source": [
    "a = np.floor(10*np.random.random((3,4)))\n",
    "print a\n",
    "s = a.view()\n",
    "print s\n",
    "s += 5\n",
    "print s\n",
    "print a\n",
    "s.shape = 4,3\n",
    "print s\n",
    "print a\n",
    "\n"
   ]
  },
  {
   "cell_type": "code",
   "execution_count": 137,
   "metadata": {
    "collapsed": false
   },
   "outputs": [
    {
     "name": "stdout",
     "output_type": "stream",
     "text": [
      "[ 1.  2.  3.  4.  5.  6.  7.]\n",
      "[14  9 10  5  6  1 21]\n",
      "[ 0.99060736  0.99991186  0.99287265  0.99952016  0.99482679  0.99881522\n",
      "  0.99779728]\n",
      "True\n"
     ]
    }
   ],
   "source": [
    "time = np.linspace(1,7,7)\n",
    "print time\n",
    "data = np.sin(np.arange(7*24).reshape(7,24))\n",
    "#print data\n",
    "hour_max = data.argmax(axis=1)\n",
    "print hour_max\n",
    "#time_max = time[ind]\n",
    "#print time_max\n",
    "data_max = data[range(7),hour_max]\n",
    "print data_max\n",
    "print np.all(data_max == data.max(axis=1))"
   ]
  },
  {
   "cell_type": "code",
   "execution_count": 146,
   "metadata": {
    "collapsed": false
   },
   "outputs": [
    {
     "name": "stdout",
     "output_type": "stream",
     "text": [
      "[2 1 3 3 4]\n"
     ]
    }
   ],
   "source": [
    "a = np.arange(5)\n",
    "a[[0,0,2]] = np.array([1,2,3])\n",
    "print a"
   ]
  },
  {
   "cell_type": "code",
   "execution_count": 177,
   "metadata": {
    "collapsed": false
   },
   "outputs": [
    {
     "name": "stdout",
     "output_type": "stream",
     "text": [
      "[[ 0  1  2  3  4]\n",
      " [ 5  6  7  8  9]\n",
      " [10 11 12 13 14]\n",
      " [15 16 17 18 19]]\n",
      "[[False False False False False]\n",
      " [False  True  True  True  True]\n",
      " [ True  True  True  True  True]\n",
      " [ True  True  True  True  True]]\n",
      "[ 6  7  8  9 10 11 12 13 14 15 16 17 18 19]\n",
      "[[0 1 2 3 4]\n",
      " [5 0 0 0 0]\n",
      " [0 0 0 0 0]\n",
      " [0 0 0 0 0]]\n",
      "[[ 0. ]\n",
      " [ 0.1]\n",
      " [ 0.2]\n",
      " [ 0.3]\n",
      " [ 0.4]\n",
      " [ 0.5]\n",
      " [ 0.6]\n",
      " [ 0.7]\n",
      " [ 0.8]\n",
      " [ 0.9]]\n",
      "[[ 1.   1.2  1.4  1.6  1.8]]\n",
      "[[ 1.   1.2  1.4  1.6  1.8]\n",
      " [ 1.1  1.3  1.5  1.7  1.9]\n",
      " [ 1.2  1.4  1.6  1.8  2. ]\n",
      " [ 1.3  1.5  1.7  1.9  2.1]\n",
      " [ 1.4  1.6  1.8  2.   2.2]\n",
      " [ 1.5  1.7  1.9  2.1  2.3]\n",
      " [ 1.6  1.8  2.   2.2  2.4]\n",
      " [ 1.7  1.9  2.1  2.3  2.5]\n",
      " [ 1.8  2.   2.2  2.4  2.6]\n",
      " [ 1.9  2.1  2.3  2.5  2.7]]\n",
      "[[ 1.   1.2  1.4  1.6  1.8]\n",
      " [ 1.1  1.3  1.5  1.7  1.9]\n",
      " [ 1.2  1.4  1.6  1.8  2. ]\n",
      " [ 1.3  1.5  1.7  1.9  2.1]\n",
      " [ 1.4  1.6  1.8  2.   2.2]\n",
      " [ 1.5  1.7  1.9  2.1  2.3]\n",
      " [ 1.6  1.8  2.   2.2  2.4]\n",
      " [ 1.7  1.9  2.1  2.3  2.5]\n",
      " [ 1.8  2.   2.2  2.4  2.6]\n",
      " [ 1.9  2.1  2.3  2.5  2.7]]\n",
      "2j\n",
      "[[ 0.    0.    0.    0.    0.  ]\n",
      " [ 0.1   0.12  0.14  0.16  0.18]\n",
      " [ 0.2   0.24  0.28  0.32  0.36]\n",
      " [ 0.3   0.36  0.42  0.48  0.54]\n",
      " [ 0.4   0.48  0.56  0.64  0.72]\n",
      " [ 0.5   0.6   0.7   0.8   0.9 ]\n",
      " [ 0.6   0.72  0.84  0.96  1.08]\n",
      " [ 0.7   0.84  0.98  1.12  1.26]\n",
      " [ 0.8   0.96  1.12  1.28  1.44]\n",
      " [ 0.9   1.08  1.26  1.44  1.62]]\n"
     ]
    }
   ],
   "source": [
    "a = np.arange(20).reshape(4,5)\n",
    "print a\n",
    "b = a > 5\n",
    "print b\n",
    "print a[b]\n",
    "a[b] = 0\n",
    "print a\n",
    "\n",
    "x,y = np.ogrid[0:1:0.1,1:2:0.2]\n",
    "print x\n",
    "print y\n",
    "print x+y\n",
    "print y+x\n",
    "print 1j*2\n",
    "print y*x"
   ]
  },
  {
   "cell_type": "code",
   "execution_count": 174,
   "metadata": {
    "collapsed": false
   },
   "outputs": [
    {
     "data": {
      "image/png": "[encoded data removed]",
      "text/plain": [
       "<matplotlib.figure.Figure at 0x7af06a0>"
      ]
     },
     "metadata": {},
     "output_type": "display_data"
    }
   ],
   "source": [
    "import pylab\n",
    "import numpy\n",
    "\n",
    "def mandelbrot(h,w,maxit = 40):\n",
    "    y,x = np.ogrid[-1.4:1.4:h*1j, -2:0.8:w*1j]\n",
    "    c = x+y*1j\n",
    "    z = c\n",
    "    divtime = maxit + np.zeros(z.shape, dtype=int)\n",
    " \n",
    "    for i in xrange(maxit):\n",
    "        z  = z**2 + c\n",
    "        diverge = z*np.conj(z) > 2**2            # who is diverging\n",
    "        div_now = diverge & (divtime==maxit)  # who is diverging now\n",
    "        divtime[div_now] = i                  # note when\n",
    "        z[diverge] = 2                        # avoid diverging too much\n",
    "         \n",
    "    return divtime\n",
    "\n",
    "pylab.imshow(mandelbrot(200,200))\n",
    "pylab.show()"
   ]
  },
  {
   "cell_type": "code",
   "execution_count": null,
   "metadata": {
    "collapsed": true
   },
   "outputs": [],
   "source": []
  }
 ],
 "metadata": {
  "kernelspec": {
   "display_name": "Python 2",
   "language": "python",
   "name": "python2"
  },
  "language_info": {
   "codemirror_mode": {
    "name": "ipython",
    "version": 2
   },
   "file_extension": ".py",
   "mimetype": "text/x-python",
   "name": "python",
   "nbconvert_exporter": "python",
   "pygments_lexer": "ipython2",
   "version": "2.7.13"
  }
 },
 "nbformat": 4,
 "nbformat_minor": 2
}
